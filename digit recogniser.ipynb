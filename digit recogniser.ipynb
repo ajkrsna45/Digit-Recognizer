{
 "cells": [
  {
   "cell_type": "code",
   "execution_count": 2,
   "id": "da1ff149",
   "metadata": {
    "_cell_guid": "b1076dfc-b9ad-4769-8c92-a6c4dae69d19",
    "_uuid": "8f2839f25d086af736a60e9eeb907d3b93b6e0e5",
    "execution": {
     "iopub.execute_input": "2022-07-22T11:52:38.342479Z",
     "iopub.status.busy": "2022-07-22T11:52:38.341639Z",
     "iopub.status.idle": "2022-07-22T11:52:38.360412Z",
     "shell.execute_reply": "2022-07-22T11:52:38.359498Z"
    },
    "papermill": {
     "duration": 0.034803,
     "end_time": "2022-07-22T11:52:38.363999",
     "exception": false,
     "start_time": "2022-07-22T11:52:38.329196",
     "status": "completed"
    },
    "tags": []
   },
   "outputs": [],
   "source": [
    "# This Python 3 environment comes with many helpful analytics libraries installed\n",
    "# It is defined by the kaggle/python Docker image: https://github.com/kaggle/docker-python\n",
    "# For example, here's several helpful packages to load\n",
    "\n",
    "import numpy as np # linear algebra\n",
    "import pandas as pd # data processing, CSV file I/O (e.g. pd.read_csv)\n",
    "\n",
    "# Input data files are available in the read-only \"../input/\" directory\n",
    "# For example, running this (by clicking run or pressing Shift+Enter) will list all files under the input directory\n",
    "\n",
    "import os\n",
    "for dirname, _, filenames in os.walk('/kaggle/input'):\n",
    "    for filename in filenames:\n",
    "        print(os.path.join(dirname, filename))\n",
    "\n",
    "# You can write up to 20GB to the current directory (/kaggle/working/) that gets preserved as output when you create a version using \"Save & Run All\" \n",
    "# You can also write temporary files to /kaggle/temp/, but they won't be saved outside of the current session"
   ]
  },
  {
   "cell_type": "markdown",
   "id": "dfb3aadf",
   "metadata": {
    "papermill": {
     "duration": 0.00819,
     "end_time": "2022-07-22T11:52:38.381144",
     "exception": false,
     "start_time": "2022-07-22T11:52:38.372954",
     "status": "completed"
    },
    "tags": []
   },
   "source": [
    "## 1. Importing Libraries"
   ]
  },
  {
   "cell_type": "code",
   "execution_count": 3,
   "id": "5b60358c",
   "metadata": {
    "execution": {
     "iopub.execute_input": "2022-07-22T11:52:38.401275Z",
     "iopub.status.busy": "2022-07-22T11:52:38.400598Z",
     "iopub.status.idle": "2022-07-22T11:52:39.835017Z",
     "shell.execute_reply": "2022-07-22T11:52:39.833940Z"
    },
    "papermill": {
     "duration": 1.447111,
     "end_time": "2022-07-22T11:52:39.837495",
     "exception": false,
     "start_time": "2022-07-22T11:52:38.390384",
     "status": "completed"
    },
    "tags": []
   },
   "outputs": [],
   "source": [
    "# Importing Libraries\n",
    "import numpy as np \n",
    "import pandas as pd\n",
    "from collections import Counter\n",
    "import math\n",
    "# Importing Library for Data Visualization\n",
    "import matplotlib.pyplot as plt\n",
    "\n",
    "import sklearn\n",
    "# Importing Algorithms for Model Training\n",
    "from sklearn import svm\n",
    "from sklearn.model_selection import GridSearchCV\n",
    "from sklearn.model_selection import train_test_split\n",
    "from sklearn.metrics import confusion_matrix\n",
    "from sklearn.metrics import accuracy_score, classification_report\n",
    "from sklearn.model_selection import learning_curve"
   ]
  },
  {
   "cell_type": "code",
   "execution_count": 5,
   "id": "b3cb4496",
   "metadata": {
    "execution": {
     "iopub.execute_input": "2022-07-22T11:52:39.857613Z",
     "iopub.status.busy": "2022-07-22T11:52:39.856960Z",
     "iopub.status.idle": "2022-07-22T11:52:48.478392Z",
     "shell.execute_reply": "2022-07-22T11:52:48.477358Z"
    },
    "papermill": {
     "duration": 8.634028,
     "end_time": "2022-07-22T11:52:48.480855",
     "exception": false,
     "start_time": "2022-07-22T11:52:39.846827",
     "status": "completed"
    },
    "tags": []
   },
   "outputs": [],
   "source": [
    "train = pd.read_csv('train.csv')\n",
    "test = pd.read_csv('test.csv')\n",
    "training_data = pd.read_csv('train.csv')"
   ]
  },
  {
   "cell_type": "code",
   "execution_count": 4,
   "id": "75f6d19b",
   "metadata": {
    "execution": {
     "iopub.execute_input": "2022-07-22T11:52:48.499769Z",
     "iopub.status.busy": "2022-07-22T11:52:48.499363Z",
     "iopub.status.idle": "2022-07-22T11:52:48.536759Z",
     "shell.execute_reply": "2022-07-22T11:52:48.535868Z"
    },
    "papermill": {
     "duration": 0.049214,
     "end_time": "2022-07-22T11:52:48.538838",
     "exception": false,
     "start_time": "2022-07-22T11:52:48.489624",
     "status": "completed"
    },
    "tags": []
   },
   "outputs": [
    {
     "data": {
      "text/html": [
       "<div>\n",
       "<style scoped>\n",
       "    .dataframe tbody tr th:only-of-type {\n",
       "        vertical-align: middle;\n",
       "    }\n",
       "\n",
       "    .dataframe tbody tr th {\n",
       "        vertical-align: top;\n",
       "    }\n",
       "\n",
       "    .dataframe thead th {\n",
       "        text-align: right;\n",
       "    }\n",
       "</style>\n",
       "<table border=\"1\" class=\"dataframe\">\n",
       "  <thead>\n",
       "    <tr style=\"text-align: right;\">\n",
       "      <th></th>\n",
       "      <th>label</th>\n",
       "      <th>pixel0</th>\n",
       "      <th>pixel1</th>\n",
       "      <th>pixel2</th>\n",
       "      <th>pixel3</th>\n",
       "      <th>pixel4</th>\n",
       "      <th>pixel5</th>\n",
       "      <th>pixel6</th>\n",
       "      <th>pixel7</th>\n",
       "      <th>pixel8</th>\n",
       "      <th>...</th>\n",
       "      <th>pixel774</th>\n",
       "      <th>pixel775</th>\n",
       "      <th>pixel776</th>\n",
       "      <th>pixel777</th>\n",
       "      <th>pixel778</th>\n",
       "      <th>pixel779</th>\n",
       "      <th>pixel780</th>\n",
       "      <th>pixel781</th>\n",
       "      <th>pixel782</th>\n",
       "      <th>pixel783</th>\n",
       "    </tr>\n",
       "  </thead>\n",
       "  <tbody>\n",
       "    <tr>\n",
       "      <th>0</th>\n",
       "      <td>1</td>\n",
       "      <td>0</td>\n",
       "      <td>0</td>\n",
       "      <td>0</td>\n",
       "      <td>0</td>\n",
       "      <td>0</td>\n",
       "      <td>0</td>\n",
       "      <td>0</td>\n",
       "      <td>0</td>\n",
       "      <td>0</td>\n",
       "      <td>...</td>\n",
       "      <td>0</td>\n",
       "      <td>0</td>\n",
       "      <td>0</td>\n",
       "      <td>0</td>\n",
       "      <td>0</td>\n",
       "      <td>0</td>\n",
       "      <td>0</td>\n",
       "      <td>0</td>\n",
       "      <td>0</td>\n",
       "      <td>0</td>\n",
       "    </tr>\n",
       "    <tr>\n",
       "      <th>1</th>\n",
       "      <td>0</td>\n",
       "      <td>0</td>\n",
       "      <td>0</td>\n",
       "      <td>0</td>\n",
       "      <td>0</td>\n",
       "      <td>0</td>\n",
       "      <td>0</td>\n",
       "      <td>0</td>\n",
       "      <td>0</td>\n",
       "      <td>0</td>\n",
       "      <td>...</td>\n",
       "      <td>0</td>\n",
       "      <td>0</td>\n",
       "      <td>0</td>\n",
       "      <td>0</td>\n",
       "      <td>0</td>\n",
       "      <td>0</td>\n",
       "      <td>0</td>\n",
       "      <td>0</td>\n",
       "      <td>0</td>\n",
       "      <td>0</td>\n",
       "    </tr>\n",
       "    <tr>\n",
       "      <th>2</th>\n",
       "      <td>1</td>\n",
       "      <td>0</td>\n",
       "      <td>0</td>\n",
       "      <td>0</td>\n",
       "      <td>0</td>\n",
       "      <td>0</td>\n",
       "      <td>0</td>\n",
       "      <td>0</td>\n",
       "      <td>0</td>\n",
       "      <td>0</td>\n",
       "      <td>...</td>\n",
       "      <td>0</td>\n",
       "      <td>0</td>\n",
       "      <td>0</td>\n",
       "      <td>0</td>\n",
       "      <td>0</td>\n",
       "      <td>0</td>\n",
       "      <td>0</td>\n",
       "      <td>0</td>\n",
       "      <td>0</td>\n",
       "      <td>0</td>\n",
       "    </tr>\n",
       "    <tr>\n",
       "      <th>3</th>\n",
       "      <td>4</td>\n",
       "      <td>0</td>\n",
       "      <td>0</td>\n",
       "      <td>0</td>\n",
       "      <td>0</td>\n",
       "      <td>0</td>\n",
       "      <td>0</td>\n",
       "      <td>0</td>\n",
       "      <td>0</td>\n",
       "      <td>0</td>\n",
       "      <td>...</td>\n",
       "      <td>0</td>\n",
       "      <td>0</td>\n",
       "      <td>0</td>\n",
       "      <td>0</td>\n",
       "      <td>0</td>\n",
       "      <td>0</td>\n",
       "      <td>0</td>\n",
       "      <td>0</td>\n",
       "      <td>0</td>\n",
       "      <td>0</td>\n",
       "    </tr>\n",
       "    <tr>\n",
       "      <th>4</th>\n",
       "      <td>0</td>\n",
       "      <td>0</td>\n",
       "      <td>0</td>\n",
       "      <td>0</td>\n",
       "      <td>0</td>\n",
       "      <td>0</td>\n",
       "      <td>0</td>\n",
       "      <td>0</td>\n",
       "      <td>0</td>\n",
       "      <td>0</td>\n",
       "      <td>...</td>\n",
       "      <td>0</td>\n",
       "      <td>0</td>\n",
       "      <td>0</td>\n",
       "      <td>0</td>\n",
       "      <td>0</td>\n",
       "      <td>0</td>\n",
       "      <td>0</td>\n",
       "      <td>0</td>\n",
       "      <td>0</td>\n",
       "      <td>0</td>\n",
       "    </tr>\n",
       "    <tr>\n",
       "      <th>...</th>\n",
       "      <td>...</td>\n",
       "      <td>...</td>\n",
       "      <td>...</td>\n",
       "      <td>...</td>\n",
       "      <td>...</td>\n",
       "      <td>...</td>\n",
       "      <td>...</td>\n",
       "      <td>...</td>\n",
       "      <td>...</td>\n",
       "      <td>...</td>\n",
       "      <td>...</td>\n",
       "      <td>...</td>\n",
       "      <td>...</td>\n",
       "      <td>...</td>\n",
       "      <td>...</td>\n",
       "      <td>...</td>\n",
       "      <td>...</td>\n",
       "      <td>...</td>\n",
       "      <td>...</td>\n",
       "      <td>...</td>\n",
       "      <td>...</td>\n",
       "    </tr>\n",
       "    <tr>\n",
       "      <th>41995</th>\n",
       "      <td>0</td>\n",
       "      <td>0</td>\n",
       "      <td>0</td>\n",
       "      <td>0</td>\n",
       "      <td>0</td>\n",
       "      <td>0</td>\n",
       "      <td>0</td>\n",
       "      <td>0</td>\n",
       "      <td>0</td>\n",
       "      <td>0</td>\n",
       "      <td>...</td>\n",
       "      <td>0</td>\n",
       "      <td>0</td>\n",
       "      <td>0</td>\n",
       "      <td>0</td>\n",
       "      <td>0</td>\n",
       "      <td>0</td>\n",
       "      <td>0</td>\n",
       "      <td>0</td>\n",
       "      <td>0</td>\n",
       "      <td>0</td>\n",
       "    </tr>\n",
       "    <tr>\n",
       "      <th>41996</th>\n",
       "      <td>1</td>\n",
       "      <td>0</td>\n",
       "      <td>0</td>\n",
       "      <td>0</td>\n",
       "      <td>0</td>\n",
       "      <td>0</td>\n",
       "      <td>0</td>\n",
       "      <td>0</td>\n",
       "      <td>0</td>\n",
       "      <td>0</td>\n",
       "      <td>...</td>\n",
       "      <td>0</td>\n",
       "      <td>0</td>\n",
       "      <td>0</td>\n",
       "      <td>0</td>\n",
       "      <td>0</td>\n",
       "      <td>0</td>\n",
       "      <td>0</td>\n",
       "      <td>0</td>\n",
       "      <td>0</td>\n",
       "      <td>0</td>\n",
       "    </tr>\n",
       "    <tr>\n",
       "      <th>41997</th>\n",
       "      <td>7</td>\n",
       "      <td>0</td>\n",
       "      <td>0</td>\n",
       "      <td>0</td>\n",
       "      <td>0</td>\n",
       "      <td>0</td>\n",
       "      <td>0</td>\n",
       "      <td>0</td>\n",
       "      <td>0</td>\n",
       "      <td>0</td>\n",
       "      <td>...</td>\n",
       "      <td>0</td>\n",
       "      <td>0</td>\n",
       "      <td>0</td>\n",
       "      <td>0</td>\n",
       "      <td>0</td>\n",
       "      <td>0</td>\n",
       "      <td>0</td>\n",
       "      <td>0</td>\n",
       "      <td>0</td>\n",
       "      <td>0</td>\n",
       "    </tr>\n",
       "    <tr>\n",
       "      <th>41998</th>\n",
       "      <td>6</td>\n",
       "      <td>0</td>\n",
       "      <td>0</td>\n",
       "      <td>0</td>\n",
       "      <td>0</td>\n",
       "      <td>0</td>\n",
       "      <td>0</td>\n",
       "      <td>0</td>\n",
       "      <td>0</td>\n",
       "      <td>0</td>\n",
       "      <td>...</td>\n",
       "      <td>0</td>\n",
       "      <td>0</td>\n",
       "      <td>0</td>\n",
       "      <td>0</td>\n",
       "      <td>0</td>\n",
       "      <td>0</td>\n",
       "      <td>0</td>\n",
       "      <td>0</td>\n",
       "      <td>0</td>\n",
       "      <td>0</td>\n",
       "    </tr>\n",
       "    <tr>\n",
       "      <th>41999</th>\n",
       "      <td>9</td>\n",
       "      <td>0</td>\n",
       "      <td>0</td>\n",
       "      <td>0</td>\n",
       "      <td>0</td>\n",
       "      <td>0</td>\n",
       "      <td>0</td>\n",
       "      <td>0</td>\n",
       "      <td>0</td>\n",
       "      <td>0</td>\n",
       "      <td>...</td>\n",
       "      <td>0</td>\n",
       "      <td>0</td>\n",
       "      <td>0</td>\n",
       "      <td>0</td>\n",
       "      <td>0</td>\n",
       "      <td>0</td>\n",
       "      <td>0</td>\n",
       "      <td>0</td>\n",
       "      <td>0</td>\n",
       "      <td>0</td>\n",
       "    </tr>\n",
       "  </tbody>\n",
       "</table>\n",
       "<p>42000 rows × 785 columns</p>\n",
       "</div>"
      ],
      "text/plain": [
       "       label  pixel0  pixel1  pixel2  pixel3  pixel4  pixel5  pixel6  pixel7  \\\n",
       "0          1       0       0       0       0       0       0       0       0   \n",
       "1          0       0       0       0       0       0       0       0       0   \n",
       "2          1       0       0       0       0       0       0       0       0   \n",
       "3          4       0       0       0       0       0       0       0       0   \n",
       "4          0       0       0       0       0       0       0       0       0   \n",
       "...      ...     ...     ...     ...     ...     ...     ...     ...     ...   \n",
       "41995      0       0       0       0       0       0       0       0       0   \n",
       "41996      1       0       0       0       0       0       0       0       0   \n",
       "41997      7       0       0       0       0       0       0       0       0   \n",
       "41998      6       0       0       0       0       0       0       0       0   \n",
       "41999      9       0       0       0       0       0       0       0       0   \n",
       "\n",
       "       pixel8  ...  pixel774  pixel775  pixel776  pixel777  pixel778  \\\n",
       "0           0  ...         0         0         0         0         0   \n",
       "1           0  ...         0         0         0         0         0   \n",
       "2           0  ...         0         0         0         0         0   \n",
       "3           0  ...         0         0         0         0         0   \n",
       "4           0  ...         0         0         0         0         0   \n",
       "...       ...  ...       ...       ...       ...       ...       ...   \n",
       "41995       0  ...         0         0         0         0         0   \n",
       "41996       0  ...         0         0         0         0         0   \n",
       "41997       0  ...         0         0         0         0         0   \n",
       "41998       0  ...         0         0         0         0         0   \n",
       "41999       0  ...         0         0         0         0         0   \n",
       "\n",
       "       pixel779  pixel780  pixel781  pixel782  pixel783  \n",
       "0             0         0         0         0         0  \n",
       "1             0         0         0         0         0  \n",
       "2             0         0         0         0         0  \n",
       "3             0         0         0         0         0  \n",
       "4             0         0         0         0         0  \n",
       "...         ...       ...       ...       ...       ...  \n",
       "41995         0         0         0         0         0  \n",
       "41996         0         0         0         0         0  \n",
       "41997         0         0         0         0         0  \n",
       "41998         0         0         0         0         0  \n",
       "41999         0         0         0         0         0  \n",
       "\n",
       "[42000 rows x 785 columns]"
      ]
     },
     "execution_count": 4,
     "metadata": {},
     "output_type": "execute_result"
    }
   ],
   "source": [
    "train_label = train['label']\n",
    "train"
   ]
  },
  {
   "cell_type": "code",
   "execution_count": 6,
   "id": "c418aa1d",
   "metadata": {
    "execution": {
     "iopub.execute_input": "2022-07-22T11:52:48.558626Z",
     "iopub.status.busy": "2022-07-22T11:52:48.558233Z",
     "iopub.status.idle": "2022-07-22T11:52:48.563936Z",
     "shell.execute_reply": "2022-07-22T11:52:48.563090Z"
    },
    "papermill": {
     "duration": 0.018131,
     "end_time": "2022-07-22T11:52:48.566203",
     "exception": false,
     "start_time": "2022-07-22T11:52:48.548072",
     "status": "completed"
    },
    "tags": []
   },
   "outputs": [
    {
     "data": {
      "text/plain": [
       "(42000, 785)"
      ]
     },
     "execution_count": 6,
     "metadata": {},
     "output_type": "execute_result"
    }
   ],
   "source": [
    "# No. of Rows & Columns\n",
    "train.shape"
   ]
  },
  {
   "cell_type": "code",
   "execution_count": 7,
   "id": "093759e7",
   "metadata": {
    "execution": {
     "iopub.execute_input": "2022-07-22T11:52:48.586918Z",
     "iopub.status.busy": "2022-07-22T11:52:48.585892Z",
     "iopub.status.idle": "2022-07-22T11:52:48.592896Z",
     "shell.execute_reply": "2022-07-22T11:52:48.592223Z"
    },
    "papermill": {
     "duration": 0.019515,
     "end_time": "2022-07-22T11:52:48.594945",
     "exception": false,
     "start_time": "2022-07-22T11:52:48.575430",
     "status": "completed"
    },
    "tags": []
   },
   "outputs": [],
   "source": [
    "#Creation of Pie Chart\n",
    "def create_pie(df, target_variable, figsize=(10, 10)):\n",
    "    print(df[target_variable].value_counts())\n",
    "    fig, ax = plt.subplots(figsize=figsize)\n",
    "    ax.pie(df[target_variable].value_counts().values, labels=df[target_variable].value_counts().index, autopct='%1.2f%%', textprops={'fontsize': 10})\n",
    "    ax.axis('equal')\n",
    "    plt.title(target_variable)\n",
    "    plt.show()"
   ]
  },
  {
   "cell_type": "code",
   "execution_count": 7,
   "id": "31a99d0c",
   "metadata": {
    "execution": {
     "iopub.execute_input": "2022-07-22T11:52:48.615252Z",
     "iopub.status.busy": "2022-07-22T11:52:48.614560Z",
     "iopub.status.idle": "2022-07-22T11:52:48.834846Z",
     "shell.execute_reply": "2022-07-22T11:52:48.833916Z"
    },
    "papermill": {
     "duration": 0.23475,
     "end_time": "2022-07-22T11:52:48.838927",
     "exception": false,
     "start_time": "2022-07-22T11:52:48.604177",
     "status": "completed"
    },
    "tags": []
   },
   "outputs": [
    {
     "name": "stdout",
     "output_type": "stream",
     "text": [
      "1    4684\n",
      "7    4401\n",
      "3    4351\n",
      "9    4188\n",
      "2    4177\n",
      "6    4137\n",
      "0    4132\n",
      "4    4072\n",
      "8    4063\n",
      "5    3795\n",
      "Name: label, dtype: int64\n"
     ]
    },
    {
     "data": {
      "text/plain": [
       "<Figure size 1800x1800 with 0 Axes>"
      ]
     },
     "metadata": {},
     "output_type": "display_data"
    },
    {
     "data": {
      "image/png": "[encoded data removed]",
      "text/plain": [
       "<Figure size 720x720 with 1 Axes>"
      ]
     },
     "metadata": {},
     "output_type": "display_data"
    }
   ],
   "source": [
    "plt.figure(figsize=(25, 25))\n",
    "create_pie(train, 'label')"
   ]
  },
  {
   "cell_type": "code",
   "execution_count": 8,
   "id": "f17c4ee0",
   "metadata": {
    "execution": {
     "iopub.execute_input": "2022-07-22T11:52:48.881771Z",
     "iopub.status.busy": "2022-07-22T11:52:48.880804Z",
     "iopub.status.idle": "2022-07-22T11:52:48.972087Z",
     "shell.execute_reply": "2022-07-22T11:52:48.971089Z"
    },
    "papermill": {
     "duration": 0.115481,
     "end_time": "2022-07-22T11:52:48.974469",
     "exception": false,
     "start_time": "2022-07-22T11:52:48.858988",
     "status": "completed"
    },
    "tags": []
   },
   "outputs": [],
   "source": [
    "# drop - for dropping entire columns/row of specific attribute value\n",
    "cp = train.drop(['label'], axis=1)\n",
    "ratio = int(math.sqrt(cp.shape[1]))"
   ]
  },
  {
   "cell_type": "code",
   "execution_count": 9,
   "id": "27bab3b4",
   "metadata": {
    "execution": {
     "iopub.execute_input": "2022-07-22T11:52:48.997167Z",
     "iopub.status.busy": "2022-07-22T11:52:48.996295Z",
     "iopub.status.idle": "2022-07-22T11:52:49.083286Z",
     "shell.execute_reply": "2022-07-22T11:52:49.082212Z"
    },
    "papermill": {
     "duration": 0.100389,
     "end_time": "2022-07-22T11:52:49.085214",
     "exception": false,
     "start_time": "2022-07-22T11:52:48.984825",
     "status": "completed"
    },
    "tags": []
   },
   "outputs": [],
   "source": [
    "train = train.drop(['label'], axis=1)"
   ]
  },
  {
   "cell_type": "code",
   "execution_count": 10,
   "id": "053063ba",
   "metadata": {
    "execution": {
     "iopub.execute_input": "2022-07-22T11:52:49.107404Z",
     "iopub.status.busy": "2022-07-22T11:52:49.106995Z",
     "iopub.status.idle": "2022-07-22T11:52:49.282167Z",
     "shell.execute_reply": "2022-07-22T11:52:49.281280Z"
    },
    "papermill": {
     "duration": 0.188489,
     "end_time": "2022-07-22T11:52:49.284076",
     "exception": false,
     "start_time": "2022-07-22T11:52:49.095587",
     "status": "completed"
    },
    "tags": []
   },
   "outputs": [
    {
     "data": {
      "text/plain": [
       "<matplotlib.image.AxesImage at 0x19f15080278>"
      ]
     },
     "execution_count": 10,
     "metadata": {},
     "output_type": "execute_result"
    },
    {
     "data": {
      "image/png": "[encoded data removed]",
      "text/plain": [
       "<Figure size 432x288 with 1 Axes>"
      ]
     },
     "metadata": {
      "needs_background": "light"
     },
     "output_type": "display_data"
    }
   ],
   "source": [
    "image_first=train.iloc[10]\n",
    "image_first=np.array(image_first).reshape(ratio,ratio)\n",
    "plt.imshow(image_first)"
   ]
  },
  {
   "cell_type": "code",
   "execution_count": 12,
   "id": "e5ad1ada",
   "metadata": {
    "execution": {
     "iopub.execute_input": "2022-07-22T11:52:49.306954Z",
     "iopub.status.busy": "2022-07-22T11:52:49.306568Z",
     "iopub.status.idle": "2022-07-22T11:52:50.354507Z",
     "shell.execute_reply": "2022-07-22T11:52:50.353422Z"
    },
    "papermill": {
     "duration": 1.061933,
     "end_time": "2022-07-22T11:52:50.356543",
     "exception": false,
     "start_time": "2022-07-22T11:52:49.294610",
     "status": "completed"
    },
    "tags": []
   },
   "outputs": [
    {
     "data": {
      "image/png": "[encoded data removed]",
      "text/plain": [
       "<Figure size 1800x1800 with 9 Axes>"
      ]
     },
     "metadata": {
      "needs_background": "light"
     },
     "output_type": "display_data"
    }
   ],
   "source": [
    "# trying to see 9 first images\n",
    "plt.figure(figsize=(25, 25))\n",
    "columns = 3\n",
    "firsts_image = train.iloc[:10]\n",
    "\n",
    "\n",
    "for i in range(0, 9):\n",
    "    image = np.array(train.iloc[i]).reshape(ratio, ratio)\n",
    "    \n",
    "    plt.subplot(int( firsts_image.shape[0]/ columns + 1), columns, i + 1)\n",
    "    plt.imshow(image, cmap='Greens')"
   ]
  },
  {
   "cell_type": "markdown",
   "id": "db48e71c",
   "metadata": {
    "papermill": {
     "duration": 0.011346,
     "end_time": "2022-07-22T11:52:50.379403",
     "exception": false,
     "start_time": "2022-07-22T11:52:50.368057",
     "status": "completed"
    },
    "tags": []
   },
   "source": [
    "## 3. Model Preparation"
   ]
  },
  {
   "cell_type": "code",
   "execution_count": 12,
   "id": "e9be857b",
   "metadata": {
    "execution": {
     "iopub.execute_input": "2022-07-22T11:52:50.403761Z",
     "iopub.status.busy": "2022-07-22T11:52:50.403358Z",
     "iopub.status.idle": "2022-07-22T11:52:54.978360Z",
     "shell.execute_reply": "2022-07-22T11:52:54.976432Z"
    },
    "papermill": {
     "duration": 4.590399,
     "end_time": "2022-07-22T11:52:54.981057",
     "exception": false,
     "start_time": "2022-07-22T11:52:50.390658",
     "status": "completed"
    },
    "tags": []
   },
   "outputs": [
    {
     "name": "stdout",
     "output_type": "stream",
     "text": [
      "prediction: \n",
      " [9 4 3 0 1 9 9 6 2 1 6 5 3 5 9 1 6 0 3 0 5 2 6 2 6 4 4 9 7 9 8 0 8 9 6 8 2\n",
      " 2 7 8 4 0 3 9 0 1 2 7 0 5 2 1 7 6 3 2 4 0 4 8 5 3 4 6 5 4 1 8 7 6 6 2 2 3\n",
      " 7 9 9 9 2 2 7 1 1 1 0 2 7 2 7 2 7 7 9 5 9 0 9 2 0 1 0 2 6 7 8 9 8 1 6 1 8\n",
      " 6 4 6 9 7 3 3 0 1 3 0 2 5 0 6 4 0 4 5 0 3 2 7 1 2 5 4 8 1 1 6 6 2 4 7 0 6\n",
      " 6 0 4 9 6 0 1 4 2 9 3 9 7 1 2 5 3 1 6 6 3 2 1 2 0 8 4 2 6 1 8 0 0 6 0 2 9\n",
      " 8 9 1 9 9 6 5 0 0 1 1 7 2 9 1 4 7 8 3 1 3 7 9 4 9]\n"
     ]
    },
    {
     "data": {
      "text/plain": [
       "array([[22,  0,  0,  0,  0,  0,  0,  0,  0,  0],\n",
       "       [ 0, 23,  0,  0,  0,  0,  1,  0,  0,  0],\n",
       "       [ 0,  1, 26,  0,  0,  0,  1,  1,  1,  0],\n",
       "       [ 0,  1,  0, 16,  0,  0,  0,  0,  0,  1],\n",
       "       [ 0,  0,  0,  0, 17,  0,  3,  0,  0,  2],\n",
       "       [ 1,  0,  0,  0,  0, 11,  1,  0,  0,  0],\n",
       "       [ 2,  0,  1,  0,  0,  0, 18,  0,  0,  0],\n",
       "       [ 0,  1,  1,  0,  0,  0,  1, 17,  0,  1],\n",
       "       [ 0,  0,  0,  0,  0,  1,  0,  0, 13,  2],\n",
       "       [ 1,  0,  0,  0,  1,  0,  0,  1,  0, 20]])"
      ]
     },
     "execution_count": 12,
     "metadata": {},
     "output_type": "execute_result"
    }
   ],
   "source": [
    "X = train\n",
    "y = train_label.to_list()\n",
    "X = train[:1000]\n",
    "y = train_label[:1000].to_list()\n",
    "X = X / 255.0\n",
    "# split our data into train and test\n",
    "X_train, X_test, y_train, y_test = train_test_split( X, y,\n",
    "                                                    test_size=0.3,\n",
    "                                                    random_state=42)\n",
    "# and we also need a validation set \n",
    "X_test, X_val, y_test, y_val = train_test_split( X_test, y_test,\n",
    "                                                    test_size=0.3,\n",
    "                                                    random_state=42)\n",
    "# Parameter Grid\n",
    "param_grid = {'kernel':['linear', 'poly'],# 'rbf', 'sigmoid'],\n",
    "              'degree':[1, 2,],\n",
    "              'gamma': [0.01, 0.1],\n",
    "              'coef0': [0.5, 1]\n",
    "             }\n",
    "grid = GridSearchCV(svm.SVC(), param_grid, cv=3)\n",
    "grid.fit(X_train, y_train)\n",
    "model = grid.best_estimator_\n",
    "x_pred = model.predict(X_test)\n",
    "model.score(X_test, y_test)\n",
    "print('prediction: \\n', x_pred)\n",
    "confusion_matrix(y_test, model.predict(X_test))"
   ]
  },
  {
   "cell_type": "code",
   "execution_count": 13,
   "id": "2f00fee9",
   "metadata": {
    "execution": {
     "iopub.execute_input": "2022-07-22T11:52:55.006398Z",
     "iopub.status.busy": "2022-07-22T11:52:55.005927Z",
     "iopub.status.idle": "2022-07-22T11:52:55.010365Z",
     "shell.execute_reply": "2022-07-22T11:52:55.009614Z"
    },
    "papermill": {
     "duration": 0.01947,
     "end_time": "2022-07-22T11:52:55.012121",
     "exception": false,
     "start_time": "2022-07-22T11:52:54.992651",
     "status": "completed"
    },
    "tags": []
   },
   "outputs": [],
   "source": [
    "## Classsification report"
   ]
  },
  {
   "cell_type": "code",
   "execution_count": 14,
   "id": "e0b72fa3",
   "metadata": {
    "execution": {
     "iopub.execute_input": "2022-07-22T11:52:55.038167Z",
     "iopub.status.busy": "2022-07-22T11:52:55.037729Z",
     "iopub.status.idle": "2022-07-22T11:52:55.084147Z",
     "shell.execute_reply": "2022-07-22T11:52:55.082547Z"
    },
    "papermill": {
     "duration": 0.062671,
     "end_time": "2022-07-22T11:52:55.086492",
     "exception": false,
     "start_time": "2022-07-22T11:52:55.023821",
     "status": "completed"
    },
    "tags": []
   },
   "outputs": [
    {
     "name": "stdout",
     "output_type": "stream",
     "text": [
      "test accuracy: \t0.8714285714285714\n",
      "              precision    recall  f1-score   support\n",
      "\n",
      "           0       0.85      1.00      0.92        22\n",
      "           1       0.88      0.96      0.92        24\n",
      "           2       0.93      0.87      0.90        30\n",
      "           3       1.00      0.89      0.94        18\n",
      "           4       0.94      0.77      0.85        22\n",
      "           5       0.92      0.85      0.88        13\n",
      "           6       0.72      0.86      0.78        21\n",
      "           7       0.89      0.81      0.85        21\n",
      "           8       0.93      0.81      0.87        16\n",
      "           9       0.77      0.87      0.82        23\n",
      "\n",
      "    accuracy                           0.87       210\n",
      "   macro avg       0.88      0.87      0.87       210\n",
      "weighted avg       0.88      0.87      0.87       210\n",
      "\n"
     ]
    }
   ],
   "source": [
    "X_prediction = model.predict(X_test)\n",
    "print(f'test accuracy: \\t{accuracy_score(y_test,X_prediction)}')\n",
    "print(f'{classification_report(y_test, X_prediction)}')"
   ]
  },
  {
   "cell_type": "markdown",
   "id": "fe4c2d66",
   "metadata": {
    "papermill": {
     "duration": 0.011192,
     "end_time": "2022-07-22T11:52:55.109419",
     "exception": false,
     "start_time": "2022-07-22T11:52:55.098227",
     "status": "completed"
    },
    "tags": []
   },
   "source": []
  },
  {
   "cell_type": "markdown",
   "id": "0c2d478f",
   "metadata": {
    "papermill": {
     "duration": 0.012113,
     "end_time": "2022-07-22T11:52:55.133521",
     "exception": false,
     "start_time": "2022-07-22T11:52:55.121408",
     "status": "completed"
    },
    "tags": []
   },
   "source": []
  },
  {
   "cell_type": "markdown",
   "id": "f10352dd",
   "metadata": {
    "papermill": {
     "duration": 0.01217,
     "end_time": "2022-07-22T11:52:55.157686",
     "exception": false,
     "start_time": "2022-07-22T11:52:55.145516",
     "status": "completed"
    },
    "tags": []
   },
   "source": [
    "## better training of model led to good result so i used mniset dataset from keras for training model along with given data to get best accuracy"
   ]
  },
  {
   "cell_type": "code",
   "execution_count": null,
   "id": "99915847",
   "metadata": {
    "papermill": {
     "duration": 0.011204,
     "end_time": "2022-07-22T11:52:55.181722",
     "exception": false,
     "start_time": "2022-07-22T11:52:55.170518",
     "status": "completed"
    },
    "tags": []
   },
   "outputs": [],
   "source": []
  },
  {
   "cell_type": "code",
   "execution_count": 15,
   "id": "75a0c9ae",
   "metadata": {
    "execution": {
     "iopub.execute_input": "2022-07-22T11:52:55.206777Z",
     "iopub.status.busy": "2022-07-22T11:52:55.206384Z",
     "iopub.status.idle": "2022-07-22T11:53:03.080877Z",
     "shell.execute_reply": "2022-07-22T11:53:03.080067Z"
    },
    "papermill": {
     "duration": 7.890644,
     "end_time": "2022-07-22T11:53:03.084059",
     "exception": false,
     "start_time": "2022-07-22T11:52:55.193415",
     "status": "completed"
    },
    "tags": []
   },
   "outputs": [],
   "source": [
    "# Data Expansion\n",
    "from sklearn.datasets import load_digits\n",
    "import tensorflow as tf\n",
    "from tensorflow.keras.datasets.mnist import load_data\n",
    "\n",
    "path = '../input/mnistpy/mnist.npz'\n",
    "import numpy as np\n",
    "\n",
    "with np.load(path, allow_pickle=True) as f:\n",
    "    X_train, y_train = f['x_train'], f['y_train']\n",
    "    X_test, y_test = f['x_test'], f['y_test']"
   ]
  },
  {
   "cell_type": "code",
   "execution_count": 16,
   "id": "56f6efaa",
   "metadata": {
    "execution": {
     "iopub.execute_input": "2022-07-22T11:53:03.111338Z",
     "iopub.status.busy": "2022-07-22T11:53:03.110495Z",
     "iopub.status.idle": "2022-07-22T11:53:06.019597Z",
     "shell.execute_reply": "2022-07-22T11:53:06.018775Z"
    },
    "papermill": {
     "duration": 2.925709,
     "end_time": "2022-07-22T11:53:06.022367",
     "exception": false,
     "start_time": "2022-07-22T11:53:03.096658",
     "status": "completed"
    },
    "tags": []
   },
   "outputs": [],
   "source": [
    "train = pd.read_csv('../input/digit-recognizer/train.csv')\n",
    "\n",
    "train_label = train['label']\n"
   ]
  },
  {
   "cell_type": "code",
   "execution_count": 17,
   "id": "6422f739",
   "metadata": {
    "execution": {
     "iopub.execute_input": "2022-07-22T11:53:06.051578Z",
     "iopub.status.busy": "2022-07-22T11:53:06.050749Z",
     "iopub.status.idle": "2022-07-22T11:53:06.059080Z",
     "shell.execute_reply": "2022-07-22T11:53:06.056177Z"
    },
    "papermill": {
     "duration": 0.025415,
     "end_time": "2022-07-22T11:53:06.062220",
     "exception": false,
     "start_time": "2022-07-22T11:53:06.036805",
     "status": "completed"
    },
    "tags": []
   },
   "outputs": [],
   "source": [
    "digit_data = X_train\n",
    "digit_target = y_train"
   ]
  },
  {
   "cell_type": "code",
   "execution_count": 18,
   "id": "4aee603c",
   "metadata": {
    "execution": {
     "iopub.execute_input": "2022-07-22T11:53:06.090523Z",
     "iopub.status.busy": "2022-07-22T11:53:06.089574Z",
     "iopub.status.idle": "2022-07-22T11:53:06.125291Z",
     "shell.execute_reply": "2022-07-22T11:53:06.124117Z"
    },
    "papermill": {
     "duration": 0.054076,
     "end_time": "2022-07-22T11:53:06.128555",
     "exception": false,
     "start_time": "2022-07-22T11:53:06.074479",
     "status": "completed"
    },
    "tags": []
   },
   "outputs": [
    {
     "name": "stdout",
     "output_type": "stream",
     "text": [
      "(60000, 28, 28)\n",
      "(10000, 28, 28)\n",
      "(70000, 784)\n",
      "(70000,)\n"
     ]
    }
   ],
   "source": [
    "print(X_train.shape)\n",
    "print(X_test.shape)\n",
    "\n",
    "X_trainB = np.append(X_train, X_test).reshape(-1, 28 * 28)\n",
    "print(X_trainB.shape)\n",
    "\n",
    "y_trainB = np.append(y_train, y_test)\n",
    "print(y_trainB.shape)\n"
   ]
  },
  {
   "cell_type": "code",
   "execution_count": 19,
   "id": "e32378b3",
   "metadata": {
    "execution": {
     "iopub.execute_input": "2022-07-22T11:53:06.160289Z",
     "iopub.status.busy": "2022-07-22T11:53:06.159839Z",
     "iopub.status.idle": "2022-07-22T11:53:09.406340Z",
     "shell.execute_reply": "2022-07-22T11:53:09.405088Z"
    },
    "papermill": {
     "duration": 3.262274,
     "end_time": "2022-07-22T11:53:09.408997",
     "exception": false,
     "start_time": "2022-07-22T11:53:06.146723",
     "status": "completed"
    },
    "tags": []
   },
   "outputs": [
    {
     "name": "stdout",
     "output_type": "stream",
     "text": [
      "(112000, 784)\n",
      "(112000,)\n"
     ]
    }
   ],
   "source": [
    "train = pd.read_csv('../input/digit-recognizer/train.csv')\n",
    "train_label = train['label']\n",
    "train = train.drop(['label'], axis=1)\n",
    "\n",
    "X_train = np.append(X_trainB, train).reshape(-1, 28 * 28)\n",
    "print(X_train.shape)\n",
    "\n",
    "y_train = np.append(y_trainB, train_label)\n",
    "print(y_train.shape)\n"
   ]
  },
  {
   "cell_type": "code",
   "execution_count": 20,
   "id": "a128609f",
   "metadata": {
    "execution": {
     "iopub.execute_input": "2022-07-22T11:53:09.434563Z",
     "iopub.status.busy": "2022-07-22T11:53:09.434185Z",
     "iopub.status.idle": "2022-07-22T11:53:09.790474Z",
     "shell.execute_reply": "2022-07-22T11:53:09.789212Z"
    },
    "papermill": {
     "duration": 0.37177,
     "end_time": "2022-07-22T11:53:09.792958",
     "exception": false,
     "start_time": "2022-07-22T11:53:09.421188",
     "status": "completed"
    },
    "tags": []
   },
   "outputs": [],
   "source": [
    "X = X_train\n",
    "y = y_train\n",
    "\n",
    "X = X / 255.0\n"
   ]
  },
  {
   "cell_type": "code",
   "execution_count": 21,
   "id": "87f91f07",
   "metadata": {
    "execution": {
     "iopub.execute_input": "2022-07-22T11:53:09.818149Z",
     "iopub.status.busy": "2022-07-22T11:53:09.817759Z",
     "iopub.status.idle": "2022-07-22T12:01:15.110846Z",
     "shell.execute_reply": "2022-07-22T12:01:15.109805Z"
    },
    "papermill": {
     "duration": 485.320332,
     "end_time": "2022-07-22T12:01:15.125186",
     "exception": false,
     "start_time": "2022-07-22T11:53:09.804854",
     "status": "completed"
    },
    "tags": []
   },
   "outputs": [
    {
     "data": {
      "text/plain": [
       "SVC(coef0=1, degree=2, gamma=0.1, kernel='poly')"
      ]
     },
     "execution_count": 21,
     "metadata": {},
     "output_type": "execute_result"
    }
   ],
   "source": [
    "SVM = svm.SVC(gamma=0.1, coef0=1, kernel='poly', degree=2)\n",
    "SVM.fit(X, y) "
   ]
  },
  {
   "cell_type": "code",
   "execution_count": 22,
   "id": "98ea3227",
   "metadata": {
    "execution": {
     "iopub.execute_input": "2022-07-22T12:01:15.151427Z",
     "iopub.status.busy": "2022-07-22T12:01:15.151011Z",
     "iopub.status.idle": "2022-07-22T12:01:17.303800Z",
     "shell.execute_reply": "2022-07-22T12:01:17.303089Z"
    },
    "papermill": {
     "duration": 2.168188,
     "end_time": "2022-07-22T12:01:17.305668",
     "exception": false,
     "start_time": "2022-07-22T12:01:15.137480",
     "status": "completed"
    },
    "tags": []
   },
   "outputs": [
    {
     "data": {
      "image/png": "[encoded data removed]",
      "text/plain": [
       "<Figure size 1800x1800 with 20 Axes>"
      ]
     },
     "metadata": {
      "needs_background": "light"
     },
     "output_type": "display_data"
    }
   ],
   "source": [
    "# trying to see 20 first images\n",
    "plt.figure(figsize=(25, 25))\n",
    "columns = 3\n",
    "firsts_image = test.iloc[:20]\n",
    "\n",
    "\n",
    "for i in range(0, 20):\n",
    "    image = np.array(test.iloc[i]).reshape(ratio, ratio)\n",
    "    \n",
    "    plt.subplot(int( firsts_image.shape[0]/ columns + 1), columns, i + 1)\n",
    "    plt.imshow(image, cmap='Purples')"
   ]
  },
  {
   "cell_type": "code",
   "execution_count": 23,
   "id": "4adc64b0",
   "metadata": {
    "execution": {
     "iopub.execute_input": "2022-07-22T12:01:17.333783Z",
     "iopub.status.busy": "2022-07-22T12:01:17.333241Z",
     "iopub.status.idle": "2022-07-22T12:01:17.445982Z",
     "shell.execute_reply": "2022-07-22T12:01:17.445136Z"
    },
    "papermill": {
     "duration": 0.129462,
     "end_time": "2022-07-22T12:01:17.448190",
     "exception": false,
     "start_time": "2022-07-22T12:01:17.318728",
     "status": "completed"
    },
    "tags": []
   },
   "outputs": [],
   "source": [
    "x_submit = test.copy()\n",
    "x_submit = x_submit / 255.0"
   ]
  },
  {
   "cell_type": "markdown",
   "id": "9c9a9106",
   "metadata": {
    "papermill": {
     "duration": 0.012522,
     "end_time": "2022-07-22T12:01:17.473895",
     "exception": false,
     "start_time": "2022-07-22T12:01:17.461373",
     "status": "completed"
    },
    "tags": []
   },
   "source": [
    "## Submission"
   ]
  },
  {
   "cell_type": "code",
   "execution_count": 24,
   "id": "4cde3c74",
   "metadata": {
    "execution": {
     "iopub.execute_input": "2022-07-22T12:01:17.501242Z",
     "iopub.status.busy": "2022-07-22T12:01:17.500864Z",
     "iopub.status.idle": "2022-07-22T12:04:54.465264Z",
     "shell.execute_reply": "2022-07-22T12:04:54.464215Z"
    },
    "papermill": {
     "duration": 216.994547,
     "end_time": "2022-07-22T12:04:54.481311",
     "exception": false,
     "start_time": "2022-07-22T12:01:17.486764",
     "status": "completed"
    },
    "tags": []
   },
   "outputs": [
    {
     "name": "stderr",
     "output_type": "stream",
     "text": [
      "/opt/conda/lib/python3.7/site-packages/sklearn/base.py:444: UserWarning: X has feature names, but SVC was fitted without feature names\n",
      "  f\"X has feature names, but {self.__class__.__name__} was fitted without\"\n"
     ]
    },
    {
     "name": "stdout",
     "output_type": "stream",
     "text": [
      "prediction: \n",
      " [2 0 9 ... 3 9 2]\n"
     ]
    }
   ],
   "source": [
    "X_prediction = SVM.predict(x_submit)\n",
    "print('prediction: \\n', X_prediction)"
   ]
  },
  {
   "cell_type": "code",
   "execution_count": 25,
   "id": "0608b9e9",
   "metadata": {
    "execution": {
     "iopub.execute_input": "2022-07-22T12:04:54.510948Z",
     "iopub.status.busy": "2022-07-22T12:04:54.510337Z",
     "iopub.status.idle": "2022-07-22T12:04:54.538320Z",
     "shell.execute_reply": "2022-07-22T12:04:54.537355Z"
    },
    "papermill": {
     "duration": 0.045758,
     "end_time": "2022-07-22T12:04:54.541213",
     "exception": false,
     "start_time": "2022-07-22T12:04:54.495455",
     "status": "completed"
    },
    "tags": []
   },
   "outputs": [],
   "source": [
    "pred = pd.Series(X_prediction, name='Label')\n",
    "pred.head()\n",
    "\n",
    "index_list = []\n",
    "\n",
    "for i, item in enumerate(pred):\n",
    "    index_list.append(i+1)\n",
    "    \n",
    "image_id = pd.Series(index_list, name='ImageId')"
   ]
  },
  {
   "cell_type": "code",
   "execution_count": 26,
   "id": "ead180b3",
   "metadata": {
    "execution": {
     "iopub.execute_input": "2022-07-22T12:04:54.575284Z",
     "iopub.status.busy": "2022-07-22T12:04:54.574426Z",
     "iopub.status.idle": "2022-07-22T12:04:54.642359Z",
     "shell.execute_reply": "2022-07-22T12:04:54.641635Z"
    },
    "papermill": {
     "duration": 0.08492,
     "end_time": "2022-07-22T12:04:54.644416",
     "exception": false,
     "start_time": "2022-07-22T12:04:54.559496",
     "status": "completed"
    },
    "tags": []
   },
   "outputs": [
    {
     "data": {
      "text/html": [
       "<div>\n",
       "<style scoped>\n",
       "    .dataframe tbody tr th:only-of-type {\n",
       "        vertical-align: middle;\n",
       "    }\n",
       "\n",
       "    .dataframe tbody tr th {\n",
       "        vertical-align: top;\n",
       "    }\n",
       "\n",
       "    .dataframe thead th {\n",
       "        text-align: right;\n",
       "    }\n",
       "</style>\n",
       "<table border=\"1\" class=\"dataframe\">\n",
       "  <thead>\n",
       "    <tr style=\"text-align: right;\">\n",
       "      <th></th>\n",
       "      <th>ImageId</th>\n",
       "      <th>Label</th>\n",
       "    </tr>\n",
       "  </thead>\n",
       "  <tbody>\n",
       "    <tr>\n",
       "      <th>27995</th>\n",
       "      <td>27996</td>\n",
       "      <td>9</td>\n",
       "    </tr>\n",
       "    <tr>\n",
       "      <th>27996</th>\n",
       "      <td>27997</td>\n",
       "      <td>7</td>\n",
       "    </tr>\n",
       "    <tr>\n",
       "      <th>27997</th>\n",
       "      <td>27998</td>\n",
       "      <td>3</td>\n",
       "    </tr>\n",
       "    <tr>\n",
       "      <th>27998</th>\n",
       "      <td>27999</td>\n",
       "      <td>9</td>\n",
       "    </tr>\n",
       "    <tr>\n",
       "      <th>27999</th>\n",
       "      <td>28000</td>\n",
       "      <td>2</td>\n",
       "    </tr>\n",
       "  </tbody>\n",
       "</table>\n",
       "</div>"
      ],
      "text/plain": [
       "       ImageId  Label\n",
       "27995    27996      9\n",
       "27996    27997      7\n",
       "27997    27998      3\n",
       "27998    27999      9\n",
       "27999    28000      2"
      ]
     },
     "execution_count": 26,
     "metadata": {},
     "output_type": "execute_result"
    }
   ],
   "source": [
    "submit = pd.concat([image_id, pred], axis=1)\n",
    "submit.to_csv('digit_classifier.csv', index=False)\n",
    "submit.tail()\n"
   ]
  },
  {
   "cell_type": "code",
   "execution_count": null,
   "id": "f2b6d5b2",
   "metadata": {
    "papermill": {
     "duration": 0.013619,
     "end_time": "2022-07-22T12:04:54.671828",
     "exception": false,
     "start_time": "2022-07-22T12:04:54.658209",
     "status": "completed"
    },
    "tags": []
   },
   "outputs": [],
   "source": []
  }
 ],
 "metadata": {
  "kernelspec": {
   "display_name": "Python 3 (ipykernel)",
   "language": "python",
   "name": "python3"
  },
  "language_info": {
   "codemirror_mode": {
    "name": "ipython",
    "version": 3
   },
   "file_extension": ".py",
   "mimetype": "text/x-python",
   "name": "python",
   "nbconvert_exporter": "python",
   "pygments_lexer": "ipython3",
   "version": "3.6.8"
  },
  "papermill": {
   "default_parameters": {},
   "duration": 750.00437,
   "end_time": "2022-07-22T12:04:57.403981",
   "environment_variables": {},
   "exception": null,
   "input_path": "__notebook__.ipynb",
   "output_path": "__notebook__.ipynb",
   "parameters": {},
   "start_time": "2022-07-22T11:52:27.399611",
   "version": "2.3.4"
  }
 },
 "nbformat": 4,
 "nbformat_minor": 5
}
